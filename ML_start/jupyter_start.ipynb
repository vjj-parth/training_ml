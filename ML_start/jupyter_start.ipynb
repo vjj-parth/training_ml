{
 "cells": [
  {
   "cell_type": "code",
   "execution_count": 1,
   "id": "5c97eb0d-2354-44a6-8f62-fc1636056c06",
   "metadata": {},
   "outputs": [
    {
     "data": {
      "text/plain": [
       "7"
      ]
     },
     "execution_count": 1,
     "metadata": {},
     "output_type": "execute_result"
    }
   ],
   "source": [
    "3+4"
   ]
  },
  {
   "cell_type": "code",
   "execution_count": 2,
   "id": "a2cc0ff3-2080-4874-ae69-c6a7973f1c60",
   "metadata": {},
   "outputs": [
    {
     "name": "stdout",
     "output_type": "stream",
     "text": [
      "welcome\n"
     ]
    }
   ],
   "source": [
    "print(\"welcome\")"
   ]
  },
  {
   "cell_type": "markdown",
   "id": "53cc5ad0-d26c-4ac3-a734-a9e1a44166c7",
   "metadata": {},
   "source": [
    "#1st heading"
   ]
  },
  {
   "cell_type": "markdown",
   "id": "d1d501b8-f113-4836-81dd-e066ccf84806",
   "metadata": {},
   "source": [
    "# 1st heading\n"
   ]
  },
  {
   "cell_type": "markdown",
   "id": "1dd9c3ff-ff9a-49d8-93c7-91b254517066",
   "metadata": {},
   "source": [
    "# hello"
   ]
  },
  {
   "cell_type": "markdown",
   "id": "bea32282-74d8-4f26-9bc7-5ee570d72b48",
   "metadata": {},
   "source": [
    "## 2nd heading"
   ]
  },
  {
   "cell_type": "markdown",
   "id": "a800cbd3-8b4d-4827-8d9d-c0545352df8c",
   "metadata": {},
   "source": [
    "* hello\n",
    "* world"
   ]
  },
  {
   "cell_type": "markdown",
   "id": "7f1bc695-4a21-48bb-9b7a-78caf4ee47d7",
   "metadata": {},
   "source": [
    "1. This is third point\n",
    "2. This is fourth point"
   ]
  },
  {
   "cell_type": "code",
   "execution_count": 6,
   "id": "35ac9a2f-5de6-471d-af4e-a8e38ee761a0",
   "metadata": {},
   "outputs": [],
   "source": [
    "import pandas"
   ]
  },
  {
   "cell_type": "code",
   "execution_count": 7,
   "id": "3a1a0b28-8d2c-4574-bc0e-49a497e44d69",
   "metadata": {},
   "outputs": [],
   "source": [
    "import matplotlib"
   ]
  },
  {
   "cell_type": "code",
   "execution_count": 9,
   "id": "c7c1cfe5-d4ae-4574-a02a-c01dac80c96a",
   "metadata": {},
   "outputs": [],
   "source": [
    "import seaborn"
   ]
  },
  {
   "cell_type": "code",
   "execution_count": 10,
   "id": "415b94b0-6673-424a-845b-4bbd647a9b26",
   "metadata": {},
   "outputs": [],
   "source": [
    "import os"
   ]
  },
  {
   "cell_type": "code",
   "execution_count": 12,
   "id": "4138d13e-bddd-41e0-9660-d1c0ca356fa4",
   "metadata": {},
   "outputs": [
    {
     "data": {
      "text/plain": [
       "'C:\\\\Users\\\\PARTH\\\\Desktop\\\\training\\\\ML_start'"
      ]
     },
     "execution_count": 12,
     "metadata": {},
     "output_type": "execute_result"
    }
   ],
   "source": [
    "os.getcwd()"
   ]
  },
  {
   "cell_type": "code",
   "execution_count": 13,
   "id": "131c1e6a-b593-4cf7-a67b-65bba87d9865",
   "metadata": {},
   "outputs": [],
   "source": [
    "os.chdir('C:\\\\Users\\\\PARTH\\\\Desktop\\\\training')"
   ]
  },
  {
   "cell_type": "code",
   "execution_count": 14,
   "id": "9dc6fe01-3196-45c5-a134-c91c14ac979e",
   "metadata": {},
   "outputs": [
    {
     "data": {
      "text/plain": [
       "'C:\\\\Users\\\\PARTH\\\\Desktop\\\\training'"
      ]
     },
     "execution_count": 14,
     "metadata": {},
     "output_type": "execute_result"
    }
   ],
   "source": [
    "os.getcwd()\n"
   ]
  },
  {
   "cell_type": "code",
   "execution_count": 15,
   "id": "ec867ca4-5967-437e-85de-302056e0012c",
   "metadata": {},
   "outputs": [
    {
     "data": {
      "text/plain": [
       "['.ipynb_checkpoints',\n",
       " 'loop1.py',\n",
       " 'ML_start',\n",
       " 'nested1.py',\n",
       " 'new.txt',\n",
       " 'new1.py',\n",
       " 'notes.txt',\n",
       " 'str1.py',\n",
       " 'test1.py']"
      ]
     },
     "execution_count": 15,
     "metadata": {},
     "output_type": "execute_result"
    }
   ],
   "source": [
    "os.listdir('C:\\\\Users\\\\PARTH\\\\Desktop\\\\training')"
   ]
  },
  {
   "cell_type": "code",
   "execution_count": 16,
   "id": "fe7f46fa-3394-4ad6-963e-82c9971e27e9",
   "metadata": {},
   "outputs": [],
   "source": [
    "import random\n"
   ]
  },
  {
   "cell_type": "code",
   "execution_count": 17,
   "id": "6f6ca342-13bd-45bc-9784-65dfad52b1c0",
   "metadata": {},
   "outputs": [
    {
     "name": "stdout",
     "output_type": "stream",
     "text": [
      "0.4290504109474841\n"
     ]
    }
   ],
   "source": [
    "val = random.random()\n",
    "print(val)"
   ]
  },
  {
   "cell_type": "code",
   "execution_count": 18,
   "id": "7634dcd7-0c70-4307-93d1-33ee79338a43",
   "metadata": {},
   "outputs": [
    {
     "name": "stdout",
     "output_type": "stream",
     "text": [
      "4\n"
     ]
    }
   ],
   "source": [
    "val2 = random.randint(1,10)\n",
    "print (val2)"
   ]
  },
  {
   "cell_type": "code",
   "execution_count": 19,
   "id": "3a44cce8-e436-4c57-9936-eb45a1d77c8c",
   "metadata": {},
   "outputs": [
    {
     "name": "stdout",
     "output_type": "stream",
     "text": [
      "howyd\n"
     ]
    }
   ],
   "source": [
    "m = ['hi', 'hello' , 'hayy' , 'howyd']\n",
    "val = random.choice(m)\n",
    "print(val)"
   ]
  },
  {
   "cell_type": "code",
   "execution_count": 20,
   "id": "fae506ac-9b8e-4b6f-9a17-169461dcfaaa",
   "metadata": {},
   "outputs": [
    {
     "name": "stdout",
     "output_type": "stream",
     "text": [
      "['howyd']\n"
     ]
    }
   ],
   "source": [
    "m = ['hi', 'hello' , 'hayy' , 'howyd']\n",
    "val = random.choices(m)\n",
    "print(val)"
   ]
  },
  {
   "cell_type": "code",
   "execution_count": 21,
   "id": "e7d7a2c9-b27a-4833-9e4c-30e5c46d1ae2",
   "metadata": {},
   "outputs": [
    {
     "name": "stdout",
     "output_type": "stream",
     "text": [
      "['hello', 'hayy']\n"
     ]
    }
   ],
   "source": [
    "m = ['hi', 'hello' , 'hayy' , 'howyd']\n",
    "val = random.choices(m, k=2)\n",
    "print(val)"
   ]
  },
  {
   "cell_type": "code",
   "execution_count": null,
   "id": "1ac4738d-ff8e-481b-baa6-61525d86b8b1",
   "metadata": {},
   "outputs": [],
   "source": []
  }
 ],
 "metadata": {
  "kernelspec": {
   "display_name": "Python 3 (ipykernel)",
   "language": "python",
   "name": "python3"
  },
  "language_info": {
   "codemirror_mode": {
    "name": "ipython",
    "version": 3
   },
   "file_extension": ".py",
   "mimetype": "text/x-python",
   "name": "python",
   "nbconvert_exporter": "python",
   "pygments_lexer": "ipython3",
   "version": "3.9.12"
  }
 },
 "nbformat": 4,
 "nbformat_minor": 5
}
