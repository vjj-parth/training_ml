{
 "cells": [
  {
   "cell_type": "code",
   "execution_count": 156,
   "metadata": {},
   "outputs": [],
   "source": [
    "# Used Car Price Prediction\n",
    "# Weather Prediction\n",
    "# Tour Package Prediction (Yaatra)"
   ]
  },
  {
   "cell_type": "code",
   "execution_count": 157,
   "metadata": {},
   "outputs": [],
   "source": [
    "import pandas as pd\n",
    "import seaborn as sns\n",
    "import matplotlib.pyplot as plt\n",
    "import warnings\n",
    "import numpy as np\n",
    "warnings.filterwarnings('ignore')\n",
    "sns.set_style('whitegrid')"
   ]
  },
  {
   "cell_type": "code",
   "execution_count": 158,
   "metadata": {},
   "outputs": [],
   "source": [
    "df = pd.read_csv('used_cars_data.csv', index_col = 0)"
   ]
  },
  {
   "cell_type": "code",
   "execution_count": 159,
   "metadata": {},
   "outputs": [
    {
     "data": {
      "text/html": [
       "<div>\n",
       "<style scoped>\n",
       "    .dataframe tbody tr th:only-of-type {\n",
       "        vertical-align: middle;\n",
       "    }\n",
       "\n",
       "    .dataframe tbody tr th {\n",
       "        vertical-align: top;\n",
       "    }\n",
       "\n",
       "    .dataframe thead th {\n",
       "        text-align: right;\n",
       "    }\n",
       "</style>\n",
       "<table border=\"1\" class=\"dataframe\">\n",
       "  <thead>\n",
       "    <tr style=\"text-align: right;\">\n",
       "      <th></th>\n",
       "      <th>Name</th>\n",
       "      <th>Location</th>\n",
       "      <th>Year</th>\n",
       "      <th>Kilometers_Driven</th>\n",
       "      <th>Fuel_Type</th>\n",
       "      <th>Transmission</th>\n",
       "      <th>Owner_Type</th>\n",
       "      <th>Mileage</th>\n",
       "      <th>Engine</th>\n",
       "      <th>Power</th>\n",
       "      <th>Seats</th>\n",
       "      <th>New_Price</th>\n",
       "      <th>Price</th>\n",
       "    </tr>\n",
       "    <tr>\n",
       "      <th>S.No.</th>\n",
       "      <th></th>\n",
       "      <th></th>\n",
       "      <th></th>\n",
       "      <th></th>\n",
       "      <th></th>\n",
       "      <th></th>\n",
       "      <th></th>\n",
       "      <th></th>\n",
       "      <th></th>\n",
       "      <th></th>\n",
       "      <th></th>\n",
       "      <th></th>\n",
       "      <th></th>\n",
       "    </tr>\n",
       "  </thead>\n",
       "  <tbody>\n",
       "    <tr>\n",
       "      <th>0</th>\n",
       "      <td>Maruti Wagon R LXI CNG</td>\n",
       "      <td>Mumbai</td>\n",
       "      <td>2010</td>\n",
       "      <td>72000</td>\n",
       "      <td>CNG</td>\n",
       "      <td>Manual</td>\n",
       "      <td>First</td>\n",
       "      <td>26.6 km/kg</td>\n",
       "      <td>998 CC</td>\n",
       "      <td>58.16 bhp</td>\n",
       "      <td>5.0</td>\n",
       "      <td>NaN</td>\n",
       "      <td>1.75</td>\n",
       "    </tr>\n",
       "    <tr>\n",
       "      <th>1</th>\n",
       "      <td>Hyundai Creta 1.6 CRDi SX Option</td>\n",
       "      <td>Pune</td>\n",
       "      <td>2015</td>\n",
       "      <td>41000</td>\n",
       "      <td>Diesel</td>\n",
       "      <td>Manual</td>\n",
       "      <td>First</td>\n",
       "      <td>19.67 kmpl</td>\n",
       "      <td>1582 CC</td>\n",
       "      <td>126.2 bhp</td>\n",
       "      <td>5.0</td>\n",
       "      <td>NaN</td>\n",
       "      <td>12.50</td>\n",
       "    </tr>\n",
       "    <tr>\n",
       "      <th>2</th>\n",
       "      <td>Honda Jazz V</td>\n",
       "      <td>Chennai</td>\n",
       "      <td>2011</td>\n",
       "      <td>46000</td>\n",
       "      <td>Petrol</td>\n",
       "      <td>Manual</td>\n",
       "      <td>First</td>\n",
       "      <td>18.2 kmpl</td>\n",
       "      <td>1199 CC</td>\n",
       "      <td>88.7 bhp</td>\n",
       "      <td>5.0</td>\n",
       "      <td>8.61 Lakh</td>\n",
       "      <td>4.50</td>\n",
       "    </tr>\n",
       "  </tbody>\n",
       "</table>\n",
       "</div>"
      ],
      "text/plain": [
       "                                   Name Location  Year  Kilometers_Driven  \\\n",
       "S.No.                                                                       \n",
       "0                Maruti Wagon R LXI CNG   Mumbai  2010              72000   \n",
       "1      Hyundai Creta 1.6 CRDi SX Option     Pune  2015              41000   \n",
       "2                          Honda Jazz V  Chennai  2011              46000   \n",
       "\n",
       "      Fuel_Type Transmission Owner_Type     Mileage   Engine      Power  \\\n",
       "S.No.                                                                     \n",
       "0           CNG       Manual      First  26.6 km/kg   998 CC  58.16 bhp   \n",
       "1        Diesel       Manual      First  19.67 kmpl  1582 CC  126.2 bhp   \n",
       "2        Petrol       Manual      First   18.2 kmpl  1199 CC   88.7 bhp   \n",
       "\n",
       "       Seats  New_Price  Price  \n",
       "S.No.                           \n",
       "0        5.0        NaN   1.75  \n",
       "1        5.0        NaN  12.50  \n",
       "2        5.0  8.61 Lakh   4.50  "
      ]
     },
     "execution_count": 159,
     "metadata": {},
     "output_type": "execute_result"
    }
   ],
   "source": [
    "df.head(3)"
   ]
  },
  {
   "cell_type": "code",
   "execution_count": 160,
   "metadata": {},
   "outputs": [
    {
     "name": "stdout",
     "output_type": "stream",
     "text": [
      "<class 'pandas.core.frame.DataFrame'>\n",
      "Int64Index: 7253 entries, 0 to 7252\n",
      "Data columns (total 13 columns):\n",
      " #   Column             Non-Null Count  Dtype  \n",
      "---  ------             --------------  -----  \n",
      " 0   Name               7253 non-null   object \n",
      " 1   Location           7253 non-null   object \n",
      " 2   Year               7253 non-null   int64  \n",
      " 3   Kilometers_Driven  7253 non-null   int64  \n",
      " 4   Fuel_Type          7253 non-null   object \n",
      " 5   Transmission       7253 non-null   object \n",
      " 6   Owner_Type         7253 non-null   object \n",
      " 7   Mileage            7251 non-null   object \n",
      " 8   Engine             7207 non-null   object \n",
      " 9   Power              7207 non-null   object \n",
      " 10  Seats              7200 non-null   float64\n",
      " 11  New_Price          1006 non-null   object \n",
      " 12  Price              6019 non-null   float64\n",
      "dtypes: float64(2), int64(2), object(9)\n",
      "memory usage: 793.3+ KB\n"
     ]
    }
   ],
   "source": [
    "df.info()"
   ]
  },
  {
   "cell_type": "code",
   "execution_count": 161,
   "metadata": {},
   "outputs": [
    {
     "data": {
      "text/html": [
       "<div>\n",
       "<style scoped>\n",
       "    .dataframe tbody tr th:only-of-type {\n",
       "        vertical-align: middle;\n",
       "    }\n",
       "\n",
       "    .dataframe tbody tr th {\n",
       "        vertical-align: top;\n",
       "    }\n",
       "\n",
       "    .dataframe thead th {\n",
       "        text-align: right;\n",
       "    }\n",
       "</style>\n",
       "<table border=\"1\" class=\"dataframe\">\n",
       "  <thead>\n",
       "    <tr style=\"text-align: right;\">\n",
       "      <th></th>\n",
       "      <th>Name</th>\n",
       "      <th>Location</th>\n",
       "      <th>Year</th>\n",
       "      <th>Kilometers_Driven</th>\n",
       "      <th>Fuel_Type</th>\n",
       "      <th>Transmission</th>\n",
       "      <th>Owner_Type</th>\n",
       "      <th>Mileage</th>\n",
       "      <th>Engine</th>\n",
       "      <th>Power</th>\n",
       "      <th>Seats</th>\n",
       "      <th>New_Price</th>\n",
       "      <th>Price</th>\n",
       "    </tr>\n",
       "  </thead>\n",
       "  <tbody>\n",
       "    <tr>\n",
       "      <th>count</th>\n",
       "      <td>7253</td>\n",
       "      <td>7253</td>\n",
       "      <td>7253.000000</td>\n",
       "      <td>7.253000e+03</td>\n",
       "      <td>7253</td>\n",
       "      <td>7253</td>\n",
       "      <td>7253</td>\n",
       "      <td>7251</td>\n",
       "      <td>7207</td>\n",
       "      <td>7207</td>\n",
       "      <td>7200.000000</td>\n",
       "      <td>1006</td>\n",
       "      <td>6019.000000</td>\n",
       "    </tr>\n",
       "    <tr>\n",
       "      <th>unique</th>\n",
       "      <td>2041</td>\n",
       "      <td>11</td>\n",
       "      <td>NaN</td>\n",
       "      <td>NaN</td>\n",
       "      <td>5</td>\n",
       "      <td>2</td>\n",
       "      <td>4</td>\n",
       "      <td>450</td>\n",
       "      <td>150</td>\n",
       "      <td>386</td>\n",
       "      <td>NaN</td>\n",
       "      <td>625</td>\n",
       "      <td>NaN</td>\n",
       "    </tr>\n",
       "    <tr>\n",
       "      <th>top</th>\n",
       "      <td>Mahindra XUV500 W8 2WD</td>\n",
       "      <td>Mumbai</td>\n",
       "      <td>NaN</td>\n",
       "      <td>NaN</td>\n",
       "      <td>Diesel</td>\n",
       "      <td>Manual</td>\n",
       "      <td>First</td>\n",
       "      <td>17.0 kmpl</td>\n",
       "      <td>1197 CC</td>\n",
       "      <td>74 bhp</td>\n",
       "      <td>NaN</td>\n",
       "      <td>63.71 Lakh</td>\n",
       "      <td>NaN</td>\n",
       "    </tr>\n",
       "    <tr>\n",
       "      <th>freq</th>\n",
       "      <td>55</td>\n",
       "      <td>949</td>\n",
       "      <td>NaN</td>\n",
       "      <td>NaN</td>\n",
       "      <td>3852</td>\n",
       "      <td>5204</td>\n",
       "      <td>5952</td>\n",
       "      <td>207</td>\n",
       "      <td>732</td>\n",
       "      <td>280</td>\n",
       "      <td>NaN</td>\n",
       "      <td>6</td>\n",
       "      <td>NaN</td>\n",
       "    </tr>\n",
       "    <tr>\n",
       "      <th>mean</th>\n",
       "      <td>NaN</td>\n",
       "      <td>NaN</td>\n",
       "      <td>2013.365366</td>\n",
       "      <td>5.869906e+04</td>\n",
       "      <td>NaN</td>\n",
       "      <td>NaN</td>\n",
       "      <td>NaN</td>\n",
       "      <td>NaN</td>\n",
       "      <td>NaN</td>\n",
       "      <td>NaN</td>\n",
       "      <td>5.279722</td>\n",
       "      <td>NaN</td>\n",
       "      <td>9.479468</td>\n",
       "    </tr>\n",
       "    <tr>\n",
       "      <th>std</th>\n",
       "      <td>NaN</td>\n",
       "      <td>NaN</td>\n",
       "      <td>3.254421</td>\n",
       "      <td>8.442772e+04</td>\n",
       "      <td>NaN</td>\n",
       "      <td>NaN</td>\n",
       "      <td>NaN</td>\n",
       "      <td>NaN</td>\n",
       "      <td>NaN</td>\n",
       "      <td>NaN</td>\n",
       "      <td>0.811660</td>\n",
       "      <td>NaN</td>\n",
       "      <td>11.187917</td>\n",
       "    </tr>\n",
       "    <tr>\n",
       "      <th>min</th>\n",
       "      <td>NaN</td>\n",
       "      <td>NaN</td>\n",
       "      <td>1996.000000</td>\n",
       "      <td>1.710000e+02</td>\n",
       "      <td>NaN</td>\n",
       "      <td>NaN</td>\n",
       "      <td>NaN</td>\n",
       "      <td>NaN</td>\n",
       "      <td>NaN</td>\n",
       "      <td>NaN</td>\n",
       "      <td>0.000000</td>\n",
       "      <td>NaN</td>\n",
       "      <td>0.440000</td>\n",
       "    </tr>\n",
       "    <tr>\n",
       "      <th>25%</th>\n",
       "      <td>NaN</td>\n",
       "      <td>NaN</td>\n",
       "      <td>2011.000000</td>\n",
       "      <td>3.400000e+04</td>\n",
       "      <td>NaN</td>\n",
       "      <td>NaN</td>\n",
       "      <td>NaN</td>\n",
       "      <td>NaN</td>\n",
       "      <td>NaN</td>\n",
       "      <td>NaN</td>\n",
       "      <td>5.000000</td>\n",
       "      <td>NaN</td>\n",
       "      <td>3.500000</td>\n",
       "    </tr>\n",
       "    <tr>\n",
       "      <th>50%</th>\n",
       "      <td>NaN</td>\n",
       "      <td>NaN</td>\n",
       "      <td>2014.000000</td>\n",
       "      <td>5.341600e+04</td>\n",
       "      <td>NaN</td>\n",
       "      <td>NaN</td>\n",
       "      <td>NaN</td>\n",
       "      <td>NaN</td>\n",
       "      <td>NaN</td>\n",
       "      <td>NaN</td>\n",
       "      <td>5.000000</td>\n",
       "      <td>NaN</td>\n",
       "      <td>5.640000</td>\n",
       "    </tr>\n",
       "    <tr>\n",
       "      <th>75%</th>\n",
       "      <td>NaN</td>\n",
       "      <td>NaN</td>\n",
       "      <td>2016.000000</td>\n",
       "      <td>7.300000e+04</td>\n",
       "      <td>NaN</td>\n",
       "      <td>NaN</td>\n",
       "      <td>NaN</td>\n",
       "      <td>NaN</td>\n",
       "      <td>NaN</td>\n",
       "      <td>NaN</td>\n",
       "      <td>5.000000</td>\n",
       "      <td>NaN</td>\n",
       "      <td>9.950000</td>\n",
       "    </tr>\n",
       "    <tr>\n",
       "      <th>max</th>\n",
       "      <td>NaN</td>\n",
       "      <td>NaN</td>\n",
       "      <td>2019.000000</td>\n",
       "      <td>6.500000e+06</td>\n",
       "      <td>NaN</td>\n",
       "      <td>NaN</td>\n",
       "      <td>NaN</td>\n",
       "      <td>NaN</td>\n",
       "      <td>NaN</td>\n",
       "      <td>NaN</td>\n",
       "      <td>10.000000</td>\n",
       "      <td>NaN</td>\n",
       "      <td>160.000000</td>\n",
       "    </tr>\n",
       "  </tbody>\n",
       "</table>\n",
       "</div>"
      ],
      "text/plain": [
       "                          Name Location         Year  Kilometers_Driven  \\\n",
       "count                     7253     7253  7253.000000       7.253000e+03   \n",
       "unique                    2041       11          NaN                NaN   \n",
       "top     Mahindra XUV500 W8 2WD   Mumbai          NaN                NaN   \n",
       "freq                        55      949          NaN                NaN   \n",
       "mean                       NaN      NaN  2013.365366       5.869906e+04   \n",
       "std                        NaN      NaN     3.254421       8.442772e+04   \n",
       "min                        NaN      NaN  1996.000000       1.710000e+02   \n",
       "25%                        NaN      NaN  2011.000000       3.400000e+04   \n",
       "50%                        NaN      NaN  2014.000000       5.341600e+04   \n",
       "75%                        NaN      NaN  2016.000000       7.300000e+04   \n",
       "max                        NaN      NaN  2019.000000       6.500000e+06   \n",
       "\n",
       "       Fuel_Type Transmission Owner_Type    Mileage   Engine   Power  \\\n",
       "count       7253         7253       7253       7251     7207    7207   \n",
       "unique         5            2          4        450      150     386   \n",
       "top       Diesel       Manual      First  17.0 kmpl  1197 CC  74 bhp   \n",
       "freq        3852         5204       5952        207      732     280   \n",
       "mean         NaN          NaN        NaN        NaN      NaN     NaN   \n",
       "std          NaN          NaN        NaN        NaN      NaN     NaN   \n",
       "min          NaN          NaN        NaN        NaN      NaN     NaN   \n",
       "25%          NaN          NaN        NaN        NaN      NaN     NaN   \n",
       "50%          NaN          NaN        NaN        NaN      NaN     NaN   \n",
       "75%          NaN          NaN        NaN        NaN      NaN     NaN   \n",
       "max          NaN          NaN        NaN        NaN      NaN     NaN   \n",
       "\n",
       "              Seats   New_Price        Price  \n",
       "count   7200.000000        1006  6019.000000  \n",
       "unique          NaN         625          NaN  \n",
       "top             NaN  63.71 Lakh          NaN  \n",
       "freq            NaN           6          NaN  \n",
       "mean       5.279722         NaN     9.479468  \n",
       "std        0.811660         NaN    11.187917  \n",
       "min        0.000000         NaN     0.440000  \n",
       "25%        5.000000         NaN     3.500000  \n",
       "50%        5.000000         NaN     5.640000  \n",
       "75%        5.000000         NaN     9.950000  \n",
       "max       10.000000         NaN   160.000000  "
      ]
     },
     "execution_count": 161,
     "metadata": {},
     "output_type": "execute_result"
    }
   ],
   "source": [
    "df.describe(include='all')"
   ]
  },
  {
   "cell_type": "code",
   "execution_count": 162,
   "metadata": {},
   "outputs": [
    {
     "data": {
      "text/plain": [
       "Index(['Name', 'Location', 'Year', 'Kilometers_Driven', 'Fuel_Type',\n",
       "       'Transmission', 'Owner_Type', 'Mileage', 'Engine', 'Power', 'Seats',\n",
       "       'New_Price', 'Price'],\n",
       "      dtype='object')"
      ]
     },
     "execution_count": 162,
     "metadata": {},
     "output_type": "execute_result"
    }
   ],
   "source": [
    "df.columns"
   ]
  },
  {
   "cell_type": "code",
   "execution_count": 163,
   "metadata": {},
   "outputs": [
    {
     "name": "stdout",
     "output_type": "stream",
     "text": [
      "Name:2041\n",
      "['Maruti Wagon R LXI CNG' 'Hyundai Creta 1.6 CRDi SX Option'\n",
      " 'Honda Jazz V' ... 'Ford EcoSport 1.5 Petrol Ambiente'\n",
      " 'Jeep Compass 1.4 Sport' 'Hyundai Elite i20 Magna Plus']\n",
      "--------------------\n",
      "Location:11\n",
      "['Mumbai' 'Pune' 'Chennai' 'Coimbatore' 'Hyderabad' 'Jaipur' 'Kochi'\n",
      " 'Kolkata' 'Delhi' 'Bangalore' 'Ahmedabad']\n",
      "--------------------\n",
      "Year:23\n",
      "[2010 2015 2011 2012 2013 2016 2018 2014 2017 2007 2009 2008 2019 2006\n",
      " 2005 2004 2002 2000 2003 1999 2001 1998 1996]\n",
      "--------------------\n",
      "Kilometers_Driven:3660\n",
      "[72000 41000 46000 ... 89411 52262 72443]\n",
      "--------------------\n",
      "Fuel_Type:5\n",
      "['CNG' 'Diesel' 'Petrol' 'LPG' 'Electric']\n",
      "--------------------\n",
      "Transmission:2\n",
      "['Manual' 'Automatic']\n",
      "--------------------\n",
      "Owner_Type:4\n",
      "['First' 'Second' 'Fourth & Above' 'Third']\n",
      "--------------------\n",
      "Mileage:450\n",
      "['26.6 km/kg' '19.67 kmpl' '18.2 kmpl' '20.77 kmpl' '15.2 kmpl'\n",
      " '21.1 km/kg' '23.08 kmpl' '11.36 kmpl' '20.54 kmpl' '22.3 kmpl'\n",
      " '21.56 kmpl' '16.8 kmpl' '25.2 kmpl' '12.7 kmpl' '0.0 kmpl' '13.5 kmpl'\n",
      " '25.8 kmpl' '28.4 kmpl' '20.45 kmpl' '14.84 kmpl' '22.69 kmpl'\n",
      " '23.65 kmpl' '13.53 kmpl' '18.5 kmpl' '14.4 kmpl' '20.92 kmpl'\n",
      " '17.5 kmpl' '12.8 kmpl' '19.01 kmpl' '14.53 kmpl' '11.18 kmpl'\n",
      " '12.4 kmpl' '16.09 kmpl' '14.0 kmpl' '24.3 kmpl' '18.15 kmpl'\n",
      " '11.74 kmpl' '22.07 kmpl' '19.7 kmpl' '25.4 kmpl' '25.32 kmpl'\n",
      " '14.62 kmpl' '14.28 kmpl' '14.9 kmpl' '11.25 kmpl' '24.4 kmpl'\n",
      " '16.55 kmpl' '17.11 kmpl' '22.9 kmpl' '17.8 kmpl' '18.9 kmpl'\n",
      " '15.04 kmpl' '25.17 kmpl' '20.36 kmpl' '13.29 kmpl' '13.68 kmpl'\n",
      " '20.0 kmpl' '15.8 kmpl' '25.0 kmpl' '16.4 kmpl' '24.52 kmpl' '22.1 kmpl'\n",
      " '8.5 kmpl' '15.1 kmpl' '16.95 kmpl' '19.64 kmpl' '16.5 kmpl' '18.53 kmpl'\n",
      " '17.57 kmpl' '18.0 kmpl' '23.2 kmpl' '16.73 kmpl' '17.0 kmpl' '13.0 kmpl'\n",
      " '17.68 kmpl' '22.7 kmpl' '16.2 kmpl' '15.26 kmpl' '23.0 kmpl'\n",
      " '19.83 kmpl' '14.94 kmpl' '17.71 kmpl' '14.74 kmpl' '16.0 kmpl'\n",
      " '22.32 kmpl' '12.99 kmpl' '23.3 kmpl' '19.15 kmpl' '10.8 kmpl'\n",
      " '15.0 kmpl' '22.0 kmpl' '21.9 kmpl' '12.05 kmpl' '11.7 kmpl' '21.21 kmpl'\n",
      " '20.73 kmpl' '21.1 kmpl' '24.07 kmpl' '19.0 kmpl' '20.58 kmpl'\n",
      " '19.27 kmpl' '11.5 kmpl' '18.6 kmpl' '21.14 kmpl' '11.05 kmpl'\n",
      " '21.76 kmpl' '7.81 kmpl' '21.66 kmpl' '17.2 kmpl' '20.63 kmpl'\n",
      " '19.4 kmpl' '14.8 kmpl' '26.0 kmpl' '20.4 kmpl' '21.5 kmpl' '15.3 kmpl'\n",
      " '17.9 kmpl' '16.6 kmpl' '22.54 kmpl' '25.44 kmpl' '13.7 kmpl'\n",
      " '22.48 kmpl' '12.9 kmpl' '19.98 kmpl' '21.4 kmpl' '19.81 kmpl'\n",
      " '15.4 kmpl' '25.47 kmpl' '19.87 kmpl' '17.45 kmpl' '14.7 kmpl'\n",
      " '15.64 kmpl' '15.73 kmpl' '23.59 kmpl' '16.1 kmpl' '27.4 kmpl'\n",
      " '20.46 kmpl' '15.29 kmpl' '20.51 kmpl' '11.8 kmpl' '14.3 kmpl'\n",
      " '14.67 kmpl' '17.19 kmpl' '21.03 kmpl' '22.5 kmpl' '16.82 kmpl'\n",
      " '11.72 kmpl' '17.4 kmpl' '17.05 kmpl' '24.0 kmpl' '28.09 kmpl'\n",
      " '20.5 kmpl' '13.1 kmpl' '19.91 kmpl' '18.7 kmpl' '16.38 kmpl'\n",
      " '11.57 kmpl' '17.3 kmpl' '22.95 kmpl' '18.88 kmpl' '23.4 kmpl'\n",
      " '22.74 kmpl' '12.07 kmpl' '17.1 kmpl' '18.48 kmpl' '16.47 kmpl'\n",
      " '23.1 kmpl' '14.07 kmpl' '16.02 kmpl' '19.3 kmpl' '17.7 kmpl' '9.52 kmpl'\n",
      " '14.75 kmpl' '26.3 km/kg' '11.3 kmpl' '21.12 kmpl' '21.02 kmpl'\n",
      " '14.45 kmpl' '19.33 kmpl' '13.8 kmpl' '24.7 kmpl' '11.0 kmpl'\n",
      " '11.07 kmpl' '21.43 kmpl' '14.21 kmpl' '18.86 kmpl' '16.07 kmpl'\n",
      " '13.49 kmpl' '20.38 kmpl' '12.0 kmpl' '17.01 kmpl' '13.2 kmpl'\n",
      " '20.37 kmpl' '15.1 km/kg' '15.96 kmpl' '14.16 kmpl' '13.17 kmpl'\n",
      " '27.62 kmpl' '25.1 kmpl' '15.17 kmpl' '11.33 kmpl' '17.92 kmpl'\n",
      " '12.55 kmpl' '12.6 kmpl' '17.72 kmpl' '18.16 kmpl' '15.68 kmpl'\n",
      " '15.5 kmpl' '12.1 kmpl' '14.83 kmpl' '17.6 kmpl' '14.6 kmpl' '14.66 kmpl'\n",
      " '10.93 kmpl' '20.68 kmpl' '9.9 kmpl' '21.13 kmpl' '20.14 kmpl'\n",
      " '19.2 kmpl' '27.3 kmpl' '16.36 kmpl' '26.59 kmpl' '12.5 kmpl' '13.6 kmpl'\n",
      " '15.06 kmpl' '10.13 kmpl' '17.21 kmpl' '15.97 kmpl' '10.5 kmpl'\n",
      " '14.69 kmpl' '23.9 kmpl' '19.1 kmpl' '21.27 kmpl' '15.9 kmpl' '20.7 kmpl'\n",
      " '14.1 kmpl' '20.89 kmpl' '18.12 kmpl' '12.3 kmpl' '19.71 kmpl'\n",
      " '9.43 kmpl' '13.4 kmpl' '13.14 kmpl' '18.1 kmpl' '22.77 kmpl'\n",
      " '14.49 kmpl' '12.39 kmpl' '10.91 kmpl' '20.85 kmpl' '15.63 kmpl'\n",
      " '27.39 kmpl' '18.3 kmpl' '16.78 kmpl' '25.5 kmpl' '10.0 kmpl'\n",
      " '13.73 kmpl' '24.2 kmpl' '14.02 kmpl' '26.83 km/kg' '16.77 kmpl'\n",
      " '24.5 kmpl' '20.34 kmpl' '21.7 kmpl' '9.7 kmpl' '14.33 kmpl' '21.64 kmpl'\n",
      " '13.2 km/kg' '19.16 kmpl' '16.93 kmpl' '9.0 kmpl' '26.2 km/kg'\n",
      " '16.3 kmpl' '12.62 kmpl' '17.3 km/kg' '20.64 kmpl' '14.24 kmpl'\n",
      " '18.06 kmpl' '10.2 kmpl' '10.1 kmpl' '18.25 kmpl' '13.93 kmpl'\n",
      " '25.83 kmpl' '8.6 kmpl' '13.24 kmpl' '17.09 kmpl' '23.84 kmpl'\n",
      " '8.45 kmpl' '19.6 kmpl' '19.5 kmpl' '20.3 kmpl' '16.05 kmpl' '11.2 kmpl'\n",
      " '27.03 kmpl' '18.78 kmpl' '12.35 kmpl' '14.59 kmpl' '17.32 kmpl'\n",
      " '14.95 kmpl' '13.22 kmpl' '23.03 kmpl' '33.44 km/kg' '15.6 kmpl'\n",
      " '19.12 kmpl' '10.98 kmpl' '33.54 km/kg' '16.46 kmpl' '18.4 kmpl'\n",
      " '11.1 kmpl' '13.01 kmpl' '18.8 kmpl' '16.52 kmpl' '18.44 kmpl'\n",
      " '19.49 kmpl' '23.5 kmpl' '23.8 kmpl' '12.65 kmpl' '20.65 kmpl'\n",
      " '21.72 kmpl' '12.19 kmpl' '26.1 kmpl' '18.33 kmpl' '12.81 kmpl'\n",
      " '17.5 km/kg' '17.06 kmpl' '17.67 kmpl' '19.34 kmpl' '8.3 kmpl'\n",
      " '16.96 kmpl' '11.79 kmpl' '20.86 kmpl' '16.98 kmpl' '11.68 kmpl'\n",
      " '15.74 kmpl' '15.7 kmpl' '18.49 kmpl' '10.9 kmpl' '19.59 kmpl'\n",
      " '11.4 kmpl' '13.06 kmpl' '21.0 kmpl' '15.15 kmpl' '16.9 kmpl'\n",
      " '18.23 kmpl' '25.0 km/kg' '17.16 kmpl' '17.43 kmpl' '19.08 kmpl'\n",
      " '18.56 kmpl' '11.9 kmpl' '24.6 km/kg' '21.79 kmpl' '12.95 kmpl'\n",
      " '25.6 kmpl' '13.45 km/kg' '26.21 kmpl' '13.58 kmpl' '16.25 kmpl'\n",
      " '10.4 kmpl' '17.44 kmpl' '19.2 km/kg' '22.71 kmpl' '17.54 kmpl'\n",
      " '22.1 km/kg' '17.0 km/kg' '15.87 kmpl' '9.5 kmpl' '11.56 kmpl'\n",
      " '14.39 kmpl' '19.09 kmpl' '17.85 kmpl' '31.79 km/kg' '18.18 kmpl'\n",
      " '21.19 kmpl' '21.8 kmpl' '15.42 kmpl' '14.47 kmpl' '19.69 kmpl'\n",
      " '12.83 kmpl' '8.0 kmpl' '22.8 km/kg' '12.63 kmpl' '14.57 kmpl'\n",
      " '27.28 kmpl' '15.41 kmpl' '32.26 km/kg' '18.19 kmpl' '13.33 kmpl'\n",
      " '16.7 kmpl' '17.84 kmpl' '20.0 km/kg' '23.19 kmpl' '11.49 kmpl'\n",
      " '18.51 kmpl' '13.44 kmpl' '8.7 kmpl' '8.77 kmpl' '17.97 kmpl'\n",
      " '23.57 kmpl' '12.37 kmpl' '9.1 kmpl' '12.51 kmpl' '19.44 kmpl'\n",
      " '21.38 kmpl' '16.51 kmpl' '24.8 kmpl' '14.42 kmpl' '14.53 km/kg'\n",
      " '26.8 kmpl' '24.04 kmpl' '9.8 kmpl' '19.68 kmpl' '21.4 km/kg' '21.2 kmpl'\n",
      " '19.72 kmpl' '14.2 kmpl' '12.98 kmpl' '23.01 kmpl' '16.12 kmpl'\n",
      " '9.3 kmpl' '15.85 kmpl' nan '17.88 kmpl' '10.6 kmpl' '11.78 kmpl'\n",
      " '7.94 kmpl' '25.01 kmpl' '8.1 kmpl' '13.9 kmpl' '11.62 kmpl' '20.62 kmpl'\n",
      " '15.11 kmpl' '10.37 kmpl' '18.59 kmpl' '9.74 kmpl' '14.81 kmpl'\n",
      " '8.2 kmpl' '12.97 kmpl' '7.5 kmpl' '30.46 km/kg' '6.4 kmpl' '12.85 kmpl'\n",
      " '18.69 kmpl' '17.24 kmpl' '13.07 kmpl' '12.2 kmpl' '20.8 kmpl'\n",
      " '11.88 km/kg' '12.08 kmpl' '15.56 kmpl' '14.5 kmpl' '17.15 kmpl']\n",
      "--------------------\n",
      "Engine:150\n",
      "['998 CC' '1582 CC' '1199 CC' '1248 CC' '1968 CC' '814 CC' '1461 CC'\n",
      " '2755 CC' '1598 CC' '1462 CC' '1497 CC' '2179 CC' '2477 CC' '1498 CC'\n",
      " '2143 CC' '1995 CC' '1984 CC' '1197 CC' '2494 CC' '1798 CC' '2696 CC'\n",
      " '2698 CC' '1061 CC' '1198 CC' '2987 CC' '796 CC' '624 CC' '1999 CC'\n",
      " '1991 CC' '2694 CC' '1120 CC' '2498 CC' '799 CC' '2393 CC' '1399 CC'\n",
      " '1796 CC' '2148 CC' '1396 CC' '1950 CC' '4806 CC' '1998 CC' '1086 CC'\n",
      " '1193 CC' '2982 CC' '1493 CC' '2967 CC' '2993 CC' '1196 CC' '1799 CC'\n",
      " '2497 CC' '2354 CC' '1373 CC' '2996 CC' '1591 CC' '2894 CC' '5461 CC'\n",
      " '1595 CC' '936 CC' '1997 CC' nan '1896 CC' '1390 CC' '1364 CC' '2199 CC'\n",
      " '993 CC' '999 CC' '1405 CC' '2956 CC' '1794 CC' '995 CC' '2496 CC'\n",
      " '1599 CC' '2400 CC' '1495 CC' '2523 CC' '793 CC' '4134 CC' '1596 CC'\n",
      " '1395 CC' '2953 CC' '1586 CC' '2362 CC' '1496 CC' '1368 CC' '1298 CC'\n",
      " '1956 CC' '1299 CC' '3498 CC' '2835 CC' '1150 CC' '3198 CC' '1343 CC'\n",
      " '1499 CC' '1186 CC' '1590 CC' '2609 CC' '2499 CC' '2446 CC' '1978 CC'\n",
      " '2360 CC' '3436 CC' '2198 CC' '4367 CC' '2706 CC' '1422 CC' '2979 CC'\n",
      " '1969 CC' '1489 CC' '2489 CC' '1242 CC' '1388 CC' '1172 CC' '2495 CC'\n",
      " '1194 CC' '3200 CC' '1781 CC' '1341 CC' '2773 CC' '3597 CC' '1985 CC'\n",
      " '2147 CC' '1047 CC' '2999 CC' '2995 CC' '2997 CC' '1948 CC' '2359 CC'\n",
      " '4395 CC' '2349 CC' '2720 CC' '1468 CC' '3197 CC' '2487 CC' '1597 CC'\n",
      " '2771 CC' '72 CC' '4951 CC' '970 CC' '2925 CC' '2200 CC' '5000 CC'\n",
      " '2149 CC' '5998 CC' '2092 CC' '5204 CC' '2112 CC' '1797 CC' '2000 CC'\n",
      " '1795 CC' '3696 CC' '1389 CC']\n",
      "--------------------\n",
      "Power:386\n",
      "['58.16 bhp' '126.2 bhp' '88.7 bhp' '88.76 bhp' '140.8 bhp' '55.2 bhp'\n",
      " '63.1 bhp' '171.5 bhp' '103.6 bhp' '74 bhp' '103.25 bhp' '116.3 bhp'\n",
      " '187.7 bhp' '115 bhp' '175.56 bhp' '98.6 bhp' '83.8 bhp' '167.62 bhp'\n",
      " '190 bhp' '88.5 bhp' '177.01 bhp' '80 bhp' '67.1 bhp' '102 bhp'\n",
      " '108.45 bhp' '138.1 bhp' '184 bhp' '179.5 bhp' '103.5 bhp' '64 bhp'\n",
      " '82 bhp' '254.8 bhp' '73.9 bhp' '46.3 bhp' '37.5 bhp' '77 bhp' '82.9 bhp'\n",
      " '149.92 bhp' '138.03 bhp' '112.2 bhp' '163.7 bhp' '71 bhp' '105 bhp'\n",
      " '174.33 bhp' '75 bhp' '103.2 bhp' '53.3 bhp' '78.9 bhp' '147.6 bhp'\n",
      " '147.8 bhp' '68 bhp' '186 bhp' '170 bhp' '69 bhp' '140 bhp' '78 bhp'\n",
      " '194 bhp' '500 bhp' '108.5 bhp' '86.8 bhp' '187.74 bhp' 'null bhp'\n",
      " '132 bhp' '86.7 bhp' '73.94 bhp' '117.3 bhp' '218 bhp' '168.5 bhp'\n",
      " '89.84 bhp' '110 bhp' '90 bhp' '82.85 bhp' '67 bhp' '241.4 bhp' '35 bhp'\n",
      " '270.9 bhp' '126.32 bhp' '73 bhp' '130 bhp' '100.6 bhp' '150 bhp'\n",
      " '75.94 bhp' '215 bhp' '107.3 bhp' '37.48 bhp' '120 bhp' '178 bhp'\n",
      " '152 bhp' '91.1 bhp' '85.80 bhp' '362.07 bhp' '121.3 bhp' '143 bhp'\n",
      " '81.80 bhp' '171 bhp' '76.8 bhp' '103.52 bhp' '444 bhp' '362.9 bhp'\n",
      " '67.06 bhp' '120.7 bhp' '258 bhp' '81.86 bhp' '112 bhp' '88.73 bhp'\n",
      " '57.6 bhp' '157.75 bhp' '102.5 bhp' '201.1 bhp' '83.1 bhp' '68.05 bhp'\n",
      " '88.50 bhp' nan '106 bhp' '100 bhp' '81.83 bhp' '85 bhp' '64.1 bhp'\n",
      " '177.5 bhp' '246.7 bhp' '177.46 bhp' '65 bhp' '67.04 bhp' '189.08 bhp'\n",
      " '99 bhp' '53.5 bhp' '194.3 bhp' '70 bhp' '183 bhp' '254.79 bhp'\n",
      " '66.1 bhp' '76 bhp' '60 bhp' '123.24 bhp' '47.3 bhp' '118 bhp' '88.8 bhp'\n",
      " '177 bhp' '136 bhp' '201.15 bhp' '93.7 bhp' '177.6 bhp' '313 bhp'\n",
      " '245 bhp' '125 bhp' '141 bhp' '227 bhp' '62 bhp' '141.1 bhp' '83.14 bhp'\n",
      " '192 bhp' '67.05 bhp' '47 bhp' '235 bhp' '37 bhp' '87.2 bhp' '203 bhp'\n",
      " '204 bhp' '246.74 bhp' '122 bhp' '282 bhp' '181 bhp' '224 bhp' '94 bhp'\n",
      " '367 bhp' '98.79 bhp' '62.1 bhp' '174.3 bhp' '114 bhp' '335.2 bhp'\n",
      " '169 bhp' '191.34 bhp' '108.49 bhp' '138.02 bhp' '156 bhp' '187.4 bhp'\n",
      " '66 bhp' '103.3 bhp' '164.7 bhp' '79.4 bhp' '198.5 bhp' '154 bhp'\n",
      " '73.8 bhp' '181.43 bhp' '85.8 bhp' '207.8 bhp' '108.4 bhp' '88 bhp'\n",
      " '63 bhp' '82.5 bhp' '364.9 bhp' '107.2 bhp' '113.98 bhp' '126.3 bhp'\n",
      " '185 bhp' '237.4 bhp' '99.6 bhp' '66.7 bhp' '160 bhp' '306 bhp'\n",
      " '98.59 bhp' '92.7 bhp' '147.51 bhp' '197.2 bhp' '167.6 bhp' '165 bhp'\n",
      " '110.4 bhp' '73.97 bhp' '147.9 bhp' '116.6 bhp' '148 bhp' '34.2 bhp'\n",
      " '155 bhp' '197 bhp' '108.62 bhp' '118.3 bhp' '38.4 bhp' '241.38 bhp'\n",
      " '153.86 bhp' '163.5 bhp' '226.6 bhp' '84.8 bhp' '53.64 bhp' '158.2 bhp'\n",
      " '69.01 bhp' '181.03 bhp' '58.2 bhp' '104.68 bhp' '126.24 bhp' '73.75 bhp'\n",
      " '158 bhp' '130.2 bhp' '57.5 bhp' '97.7 bhp' '121.4 bhp' '98.96 bhp'\n",
      " '174.5 bhp' '308 bhp' '121.36 bhp' '138 bhp' '265 bhp' '84 bhp' '321 bhp'\n",
      " '91.72 bhp' '65.3 bhp' '88.2 bhp' '93 bhp' '35.5 bhp' '86.79 bhp'\n",
      " '157.7 bhp' '40.3 bhp' '91.7 bhp' '180 bhp' '114.4 bhp' '158.8 bhp'\n",
      " '157.8 bhp' '123.7 bhp' '56.3 bhp' '189 bhp' '104 bhp' '210 bhp'\n",
      " '270.88 bhp' '142 bhp' '255 bhp' '236 bhp' '167.7 bhp' '148.31 bhp'\n",
      " '80.46 bhp' '138.08 bhp' '250 bhp' '74.9 bhp' '91.2 bhp' '102.57 bhp'\n",
      " '97.6 bhp' '102.53 bhp' '240 bhp' '254 bhp' '112.4 bhp' '73.74 bhp'\n",
      " '108.495 bhp' '116.9 bhp' '101 bhp' '320 bhp' '70.02 bhp' '261.49 bhp'\n",
      " '105.5 bhp' '550 bhp' '168.7 bhp' '55.23 bhp' '94.68 bhp' '152.88 bhp'\n",
      " '163.2 bhp' '203.2 bhp' '241 bhp' '95 bhp' '200 bhp' '271.23 bhp'\n",
      " '63.12 bhp' '85.7 bhp' '308.43 bhp' '118.6 bhp' '199.3 bhp' '83.83 bhp'\n",
      " '55 bhp' '83 bhp' '300 bhp' '201 bhp' '262.6 bhp' '163 bhp' '58.33 bhp'\n",
      " '86.76 bhp' '76.9 bhp' '174.57 bhp' '301.73 bhp' '68.1 bhp' '162 bhp'\n",
      " '394.3 bhp' '80.9 bhp' '147.5 bhp' '272 bhp' '340 bhp' '120.33 bhp'\n",
      " '82.4 bhp' '231.1 bhp' '335.3 bhp' '333 bhp' '198.25 bhp' '224.34 bhp'\n",
      " '402 bhp' '261 bhp' '61 bhp' '144 bhp' '71.01 bhp' '271.72 bhp' '134 bhp'\n",
      " '135.1 bhp' '92 bhp' '64.08 bhp' '261.5 bhp' '123.37 bhp' '175.67 bhp'\n",
      " '53 bhp' '110.5 bhp' '178.4 bhp' '193.1 bhp' '41 bhp' '395 bhp'\n",
      " '48.21 bhp' '450 bhp' '421 bhp' '89.75 bhp' '387.3 bhp' '130.3 bhp'\n",
      " '281.61 bhp' '52.8 bhp' '139.01 bhp' '208 bhp' '503 bhp' '168 bhp'\n",
      " '98.82 bhp' '139.07 bhp' '83.11 bhp' '74.93 bhp' '382 bhp' '74.96 bhp'\n",
      " '552 bhp' '127 bhp' '560 bhp' '116.4 bhp' '161.6 bhp' '488.1 bhp'\n",
      " '103 bhp' '181.04 bhp' '138.13 bhp' '78.8 bhp' '616 bhp' '170.30 bhp'\n",
      " '182.46 bhp' '245.41 bhp' '161 bhp' '120.69 bhp' '252 bhp' '147.4 bhp'\n",
      " '328.5 bhp' '98.63 bhp' '360 bhp' '241.6 bhp']\n",
      "--------------------\n",
      "Seats:9\n",
      "[ 5.  7.  8.  4.  6.  2. nan 10.  9.  0.]\n",
      "--------------------\n",
      "New_Price:625\n",
      "[nan '8.61 Lakh' '21 Lakh' '10.65 Lakh' '32.01 Lakh' '47.87 Lakh'\n",
      " '10.57 Lakh' '12.33 Lakh' '11.12 Lakh' '23.64 Lakh' '18.64 Lakh'\n",
      " '19.34 Lakh' '49.14 Lakh' '11.81 Lakh' '16.65 Lakh' '6.67 Lakh'\n",
      " '6.45 Lakh' '6.41 Lakh' '27 Lakh' '5.13 Lakh' '54.43 Lakh' '9.51 Lakh'\n",
      " '9.96 Lakh' '14.44 Lakh' '4.53 Lakh' '95.04 Lakh' '13.49 Lakh' '1.28 Cr'\n",
      " '60.88 Lakh' '7.39 Lakh' '69.47 Lakh' '8.78 Lakh' '12.74 Lakh'\n",
      " '10.52 Lakh' '11.98 Lakh' '8.54 Lakh' '33.58 Lakh' '9.12 Lakh'\n",
      " '5.29 Lakh' '44.28 Lakh' '20.74 Lakh' '11.74 Lakh' '25.52 Lakh'\n",
      " '14.07 Lakh' '95.13 Lakh' '8.34 Lakh' '8.85 Lakh' '25.4 Lakh'\n",
      " '16.67 Lakh' '79.43 Lakh' '6.62 Lakh' '1.04 Cr' '58.67 Lakh' '28.37 Lakh'\n",
      " '4.48 Lakh' '72.64 Lakh' '36.15 Lakh' '44.59 Lakh' '12 Lakh' '14.65 Lakh'\n",
      " '53.72 Lakh' '33.91 Lakh' '12.51 Lakh' '9.74 Lakh' '95.38 Lakh'\n",
      " '60.59 Lakh' '11.28 Lakh' '11.48 Lakh' '11.26 Lakh' '43.65 Lakh'\n",
      " '62.07 Lakh' '86.97 Lakh' '1 Cr' '4.74 Lakh' '14.84 Lakh' '49.49 Lakh'\n",
      " '48.18 Lakh' '12.34 Lakh' '15.38 Lakh' '19.21 Lakh' '22.95 Lakh'\n",
      " '11.15 Lakh' '10.32 Lakh' '28.05 Lakh' '59.77 Lakh' '15.86 Lakh'\n",
      " '19.43 Lakh' '42.12 Lakh' '16.95 Lakh' '15.45 Lakh' '7.87 Lakh'\n",
      " '4.7 Lakh' '15.02 Lakh' '12.56 Lakh' '11.33 Lakh' '26.45 Lakh'\n",
      " '10.34 Lakh' '7.46 Lakh' '11.85 Lakh' '10.41 Lakh' '5.57 Lakh'\n",
      " '42.48 Lakh' '16.04 Lakh' '9.1 Lakh' '7.65 Lakh' '13.74 Lakh' '5.72 Lakh'\n",
      " '21.33 Lakh' '78.76 Lakh' '4.29 Lakh' '10.04 Lakh' '11.67 Lakh'\n",
      " '8.56 Lakh' '4.78 Lakh' '6.14 Lakh' '7.3 Lakh' '4.37 Lakh' '4.98 Lakh'\n",
      " '15.29 Lakh' '24.26 Lakh' '75.12 Lakh' '9.53 Lakh' '34.6 Lakh'\n",
      " '52.26 Lakh' '70.43 Lakh' '4.8 Lakh' '12.12 Lakh' '19.37 Lakh'\n",
      " '12.14 Lakh' '36.69 Lakh' '23.68 Lakh' '55.61 Lakh' '14.1 Lakh'\n",
      " '13.26 Lakh' '11.27 Lakh' '11.2 Lakh' '9.46 Lakh' '12.79 Lakh'\n",
      " '15.57 Lakh' '19.86 Lakh' '6.59 Lakh' '6.54 Lakh' '26.56 Lakh'\n",
      " '15.05 Lakh' '11.01 Lakh' '11 Lakh' '7.55 Lakh' '7.82 Lakh' '6.32 Lakh'\n",
      " '15.14 Lakh' '15.72 Lakh' '45.67 Lakh' '54.7 Lakh' '22.87 Lakh'\n",
      " '6.74 Lakh' '33.09 Lakh' '23.25 Lakh' '19.27 Lakh' '52.77 Lakh'\n",
      " '7.92 Lakh' '7.85 Lakh' '15.55 Lakh' '32.45 Lakh' '4.83 Lakh' '7.13 Lakh'\n",
      " '71.82 Lakh' '50.97 Lakh' '10.73 Lakh' '9.5 Lakh' '52.46 Lakh'\n",
      " '6.07 Lakh' '5.54 Lakh' '4.33 Lakh' '8.63 Lakh' '6.68 Lakh' '7.98 Lakh'\n",
      " '24.82 Lakh' '7.63 Lakh' '22.86 Lakh' '11.06 Lakh' '19.39 Lakh'\n",
      " '21.77 Lakh' '18.35 Lakh' '9.19 Lakh' '8.09 Lakh' '1.39 Cr' '11.52 Lakh'\n",
      " '13.23 Lakh' '10.06 Lakh' '15.34 Lakh' '24.01 Lakh' '11.39 Lakh'\n",
      " '9.79 Lakh' '35 Lakh' '9.26 Lakh' '8.68 Lakh' '66.39 Lakh' '36.45 Lakh'\n",
      " '91.38 Lakh' '53.41 Lakh' '4.59 Lakh' '67.87 Lakh' '9.44 Lakh'\n",
      " '48.64 Lakh' '11.69 Lakh' '11.11 Lakh' '6.33 Lakh' '8.1 Lakh' '6.4 Lakh'\n",
      " '7.59 Lakh' '7 Lakh' '7.43 Lakh' '22.43 Lakh' '24.02 Lakh' '21.69 Lakh'\n",
      " '34.63 Lakh' '43.31 Lakh' '4.71 Lakh' '1.02 Cr' '6.71 Lakh' '34.45 Lakh'\n",
      " '8.58 Lakh' '12.67 Lakh' '11.89 Lakh' '10.48 Lakh' '13.59 Lakh'\n",
      " '11.02 Lakh' '41.94 Lakh' '8.94 Lakh' '21.38 Lakh' '12.88 Lakh'\n",
      " '8.27 Lakh' '7.37 Lakh' '7.33 Lakh' '23.06 Lakh' '1.4 Cr' '5.58 Lakh'\n",
      " '22.46 Lakh' '7.69 Lakh' '9.4 Lakh' '6.08 Lakh' '8.36 Lakh' '1.06 Cr'\n",
      " '71.15 Lakh' '6.82 Lakh' '8.12 Lakh' '9.78 Lakh' '7.36 Lakh' '38.11 Lakh'\n",
      " '11.75 Lakh' '8.44 Lakh' '16.06 Lakh' '6.63 Lakh' '1.27 Cr' '39.6 Lakh'\n",
      " '10.91 Lakh' '25.75 Lakh' '5.61 Lakh' '8.05 Lakh' '8.82 Lakh'\n",
      " '17.38 Lakh' '5.69 Lakh' '37.51 Lakh' '5.88 Lakh' '63.71 Lakh'\n",
      " '11.47 Lakh' '37.46 Lakh' '7.88 Lakh' '11.37 Lakh' '11.3 Lakh'\n",
      " '92.5 Lakh' '15.06 Lakh' '39.57 Lakh' '13.7 Lakh' '11.16 Lakh'\n",
      " '9.47 Lakh' '10.17 Lakh' '8.17 Lakh' '9.58 Lakh' '9.14 Lakh' '64.14 Lakh'\n",
      " '16.36 Lakh' '37.38 Lakh' '22.74 Lakh' '33.36 Lakh' '70.55 Lakh'\n",
      " '1.13 Cr' '45.36 Lakh' '10.13 Lakh' '14.22 Lakh' '11.77 Lakh' '4.05 Lakh'\n",
      " '26.95 Lakh' '4.82 Lakh' '7.17 Lakh' '13.58 Lakh' '9.09 Lakh' '4.09 Lakh'\n",
      " '6.83 Lakh' '5.04 Lakh' '43.81 Lakh' '5.12 Lakh' '5.71 Lakh' '5.87 Lakh'\n",
      " '8.16 Lakh' '9.72 Lakh' '10.3 Lakh' '4.69 Lakh' '5.42 Lakh' '91.23 Lakh'\n",
      " '7.14 Lakh' '69.59 Lakh' '4.61 Lakh' '5.3 Lakh' '7.97 Lakh' '59.38 Lakh'\n",
      " '67.1 Lakh' '12.22 Lakh' '33.68 Lakh' '6.96 Lakh' '7.96 Lakh' '20.8 Lakh'\n",
      " '6.78 Lakh' '19.91 Lakh' '8.93 Lakh' '11.66 Lakh' '7.35 Lakh' '6.99 Lakh'\n",
      " '23.89 Lakh' '7.27 Lakh' '8.84 Lakh' '22.37 Lakh' '12.02 Lakh'\n",
      " '3.95 Lakh' '48.79 Lakh' '4.66 Lakh' '11.29 Lakh' '5.35 Lakh' '1.36 Cr'\n",
      " '6.23 Lakh' '47.16 Lakh' '41.98 Lakh' '35.29 Lakh' '7.91 Lakh'\n",
      " '5.36 Lakh' '5.51 Lakh' '20.97 Lakh' '34.89 Lakh' '16.4 Lakh' '1.66 Cr'\n",
      " '14.67 Lakh' '12.57 Lakh' '9.48 Lakh' '8.95 Lakh' '23.19 Lakh'\n",
      " '8.24 Lakh' '8.71 Lakh' '44.75 Lakh' '87.57 Lakh' '8.57 Lakh' '7.56 Lakh'\n",
      " '43.07 Lakh' '7.83 Lakh' '6 Lakh' '13.76 Lakh' '14.11 Lakh' '12.47 Lakh'\n",
      " '6.51 Lakh' '7.52 Lakh' '15.68 Lakh' '7.45 Lakh' '20.48 Lakh'\n",
      " '15.17 Lakh' '8.13 Lakh' '8.79 Lakh' '14.72 Lakh' '25.54 Lakh'\n",
      " '16.84 Lakh' '8.28 Lakh' '23.94 Lakh' '69.37 Lakh' '9.04 Lakh'\n",
      " '55.07 Lakh' '10.97 Lakh' '21.72 Lakh' '4.9 Lakh' '10.1 Lakh'\n",
      " '12.53 Lakh' '20.87 Lakh' '5.9 Lakh' '64.57 Lakh' '17.21 Lakh'\n",
      " '6.56 Lakh' '47.2 Lakh' '10.14 Lakh' '1.6 Cr' '5.44 Lakh' '26.55 Lakh'\n",
      " '8.26 Lakh' '4.5 Lakh' '56.97 Lakh' '11.19 Lakh' '13.33 Lakh' '8.75 Lakh'\n",
      " '21.1 Lakh' '10.28 Lakh' '11.56 Lakh' '27.07 Lakh' '4.36 Lakh'\n",
      " '10.81 Lakh' '8.55 Lakh' '22.66 Lakh' '4.24 Lakh' '41.02 Lakh' '17 Lakh'\n",
      " '2.3 Cr' '10.89 Lakh' '40.62 Lakh' '7.54 Lakh' '30.19 Lakh' '5.56 Lakh'\n",
      " '4.43 Lakh' '37.17 Lakh' '12.9 Lakh' '19.18 Lakh' '10.99 Lakh'\n",
      " '12.23 Lakh' '11.63 Lakh' '12.27 Lakh' '3.91 Lakh' '44.8 Lakh'\n",
      " '50.4 Lakh' '4.04 Lakh' '11.96 Lakh' '11.44 Lakh' '24.63 Lakh'\n",
      " '50.26 Lakh' '13.72 Lakh' '23.14 Lakh' '6.29 Lakh' '8.18 Lakh'\n",
      " '7.48 Lakh' '83.92 Lakh' '36.94 Lakh' '13.6 Lakh' '10.7 Lakh' '4.87 Lakh'\n",
      " '92.79 Lakh' '5.8 Lakh' '62.11 Lakh' '10.83 Lakh' '11.05 Lakh'\n",
      " '9.99 Lakh' '14.32 Lakh' '6.21 Lakh' '74.49 Lakh' '8.03 Lakh' '1.71 Cr'\n",
      " '37.9 Lakh' '32.54 Lakh' '11.71 Lakh' '3.98 Lakh' '4.55 Lakh' '8.8 Lakh'\n",
      " '11.13 Lakh' '11.58 Lakh' '10.63 Lakh' '12.68 Lakh' '17.7 Lakh'\n",
      " '14.23 Lakh' '9.62 Lakh' '53.14 Lakh' '8.91 Lakh' '10.26 Lakh'\n",
      " '6.94 Lakh' '15.59 Lakh' '78.31 Lakh' '42.89 Lakh' '9.56 Lakh'\n",
      " '64.76 Lakh' '99.92 Lakh' '69.22 Lakh' '18.45 Lakh' '9.89 Lakh'\n",
      " '7.94 Lakh' '8.73 Lakh' '8.69 Lakh' '42.4 Lakh' '23.37 Lakh' '79.78 Lakh'\n",
      " '16.6 Lakh' '4.93 Lakh' '14.2 Lakh' '10.42 Lakh' '9.55 Lakh' '5.45 Lakh'\n",
      " '8.38 Lakh' '5.95 Lakh' '15.36 Lakh' '10.94 Lakh' '10.15 Lakh'\n",
      " '9.83 Lakh' '7.67 Lakh' '9.97 Lakh' '67.67 Lakh' '53.68 Lakh' '6.05 Lakh'\n",
      " '10.25 Lakh' '8.23 Lakh' '7.01 Lakh' '6.8 Lakh' '25.27 Lakh' '57.3 Lakh'\n",
      " '5.68 Lakh' '9.36 Lakh' '38.72 Lakh' '7.7 Lakh' '6.43 Lakh' '5.67 Lakh'\n",
      " '3.96 Lakh' '39.27 Lakh' '33.51 Lakh' '15.94 Lakh' '7.15 Lakh'\n",
      " '13.4 Lakh' '11.88 Lakh' '21.36 Lakh' '5.92 Lakh' '6.42 Lakh' '8.99 Lakh'\n",
      " '12.44 Lakh' '5.77 Lakh' '15.01 Lakh' '40.73 Lakh' '33.21 Lakh'\n",
      " '4.45 Lakh' '20.46 Lakh' '39.22 Lakh' '7.77 Lakh' '11.91 Lakh'\n",
      " '9.93 Lakh' '9.27 Lakh' '14.95 Lakh' '5.78 Lakh' '6.3 Lakh' '5.74 Lakh'\n",
      " '52.96 Lakh' '15.93 Lakh' '3.99 Lakh' '1.58 Cr' '6.15 Lakh' '31.93 Lakh'\n",
      " '15.88 Lakh' '7.19 Lakh' '56.98 Lakh' '14.13 Lakh' '25.04 Lakh'\n",
      " '8.92 Lakh' '5.01 Lakh' '19.01 Lakh' '9.45 Lakh' '3.75 Cr' '35.16 Lakh'\n",
      " '6.24 Lakh' '9.42 Lakh' '4.56 Lakh' '29.9 Lakh' '7.12 Lakh' '9.94 Lakh'\n",
      " '6.44 Lakh' '16.82 Lakh' '63.47 Lakh' '6.7 Lakh' '34.1 Lakh' '5.31 Lakh'\n",
      " '15.24 Lakh' '36.5 Lakh' '37.03 Lakh' '10.86 Lakh' '59.12 Lakh'\n",
      " '5.79 Lakh' '10.55 Lakh' '15.73 Lakh' '27.56 Lakh' '4.75 Lakh'\n",
      " '7.08 Lakh' '77.92 Lakh' '14.86 Lakh' '26.14 Lakh' '32.41 Lakh'\n",
      " '12.05 Lakh' '6.38 Lakh' '5.89 Lakh' '6.55 Lakh' '7.79 Lakh' '18.32 Lakh'\n",
      " '16.64 Lakh' '9.54 Lakh' '23.29 Lakh' '13.08 Lakh' '4.02 Lakh'\n",
      " '66.71 Lakh' '15.11 Lakh' '49.12 Lakh' '10.51 Lakh' '8.65 Lakh'\n",
      " '8.6 Lakh' '10.36 Lakh' '20.69 Lakh' '4.25 Lakh' '92.01 Lakh' '7.9 Lakh'\n",
      " '7.21 Lakh' '16.94 Lakh' '5.27 Lakh' '11.14 Lakh' '20.01 Lakh'\n",
      " '32.62 Lakh' '11.59 Lakh' '6.46 Lakh' '19.72 Lakh' '12.46 Lakh'\n",
      " '9.11 Lakh' '5.53 Lakh' '7.06 Lakh' '18.16 Lakh']\n",
      "--------------------\n",
      "Price:1373\n",
      "[ 1.75 12.5   4.5  ... 17.56  7.43   nan]\n",
      "--------------------\n"
     ]
    }
   ],
   "source": [
    "for col in df.columns:\n",
    "    print(f'{col}:{df[col].nunique()}')\n",
    "    print(df[col].unique())\n",
    "    print('-'*20)"
   ]
  },
  {
   "cell_type": "code",
   "execution_count": 164,
   "metadata": {},
   "outputs": [],
   "source": [
    "target_col = 'Price'\n",
    "cat_cols = ['Location','Year','Fuel_Type','Transmission','Owner_Type']\n",
    "num_cols = ['Kilometers_Driven','Mileage','Engine','Power','Seats']\n",
    "drop_cols = ['New_Price']"
   ]
  },
  {
   "cell_type": "code",
   "execution_count": 165,
   "metadata": {},
   "outputs": [
    {
     "name": "stdout",
     "output_type": "stream",
     "text": [
      "Location\n",
      "Ahmedabad     275\n",
      "Bangalore     440\n",
      "Chennai       591\n",
      "Coimbatore    772\n",
      "Delhi         660\n",
      "Hyderabad     876\n",
      "Jaipur        499\n",
      "Kochi         772\n",
      "Kolkata       654\n",
      "Mumbai        949\n",
      "Pune          765\n",
      "Name: Location, dtype: int64\n"
     ]
    },
    {
     "data": {
      "image/png": "[encoded data removed]",
      "text/plain": [
       "<Figure size 432x288 with 1 Axes>"
      ]
     },
     "metadata": {},
     "output_type": "display_data"
    },
    {
     "name": "stdout",
     "output_type": "stream",
     "text": [
      "Year\n",
      "1996      1\n",
      "1998      4\n",
      "1999      2\n",
      "2000      5\n",
      "2001      8\n",
      "2002     18\n",
      "2003     20\n",
      "2004     35\n",
      "2005     68\n",
      "2006     89\n",
      "2007    148\n",
      "2008    207\n",
      "2009    252\n",
      "2010    407\n",
      "2011    579\n",
      "2012    690\n",
      "2013    791\n",
      "2014    925\n",
      "2015    929\n",
      "2016    886\n",
      "2017    709\n",
      "2018    361\n",
      "2019    119\n",
      "Name: Year, dtype: int64\n"
     ]
    },
    {
     "data": {
      "image/png": "[encoded data removed]",
      "text/plain": [
       "<Figure size 432x288 with 1 Axes>"
      ]
     },
     "metadata": {},
     "output_type": "display_data"
    },
    {
     "name": "stdout",
     "output_type": "stream",
     "text": [
      "Fuel_Type\n",
      "CNG           62\n",
      "Diesel      3852\n",
      "Electric       2\n",
      "LPG           12\n",
      "Petrol      3325\n",
      "Name: Fuel_Type, dtype: int64\n"
     ]
    },
    {
     "data": {
      "image/png": "[encoded data removed]",
      "text/plain": [
       "<Figure size 432x288 with 1 Axes>"
      ]
     },
     "metadata": {},
     "output_type": "display_data"
    },
    {
     "name": "stdout",
     "output_type": "stream",
     "text": [
      "Transmission\n",
      "Automatic    2049\n",
      "Manual       5204\n",
      "Name: Transmission, dtype: int64\n"
     ]
    },
    {
     "data": {
      "image/png": "[encoded data removed]",
      "text/plain": [
       "<Figure size 432x288 with 1 Axes>"
      ]
     },
     "metadata": {},
     "output_type": "display_data"
    },
    {
     "name": "stdout",
     "output_type": "stream",
     "text": [
      "Owner_Type\n",
      "First             5952\n",
      "Fourth & Above      12\n",
      "Second            1152\n",
      "Third              137\n",
      "Name: Owner_Type, dtype: int64\n"
     ]
    },
    {
     "data": {
      "image/png": "[encoded data removed]",
      "text/plain": [
       "<Figure size 432x288 with 1 Axes>"
      ]
     },
     "metadata": {},
     "output_type": "display_data"
    }
   ],
   "source": [
    "def cat_analyze(col):\n",
    "    print(col)\n",
    "    print(df[col].value_counts().sort_index())\n",
    "    sns.countplot(data = df, y=col)\n",
    "    plt.show()\n",
    "\n",
    "for col in cat_cols:\n",
    "    cat_analyze(col)"
   ]
  },
  {
   "cell_type": "code",
   "execution_count": 166,
   "metadata": {},
   "outputs": [
    {
     "data": {
      "text/plain": [
       "S.No.\n",
       "0    26.6 km/kg\n",
       "1    19.67 kmpl\n",
       "2     18.2 kmpl\n",
       "3    20.77 kmpl\n",
       "4     15.2 kmpl\n",
       "Name: Mileage, dtype: object"
      ]
     },
     "execution_count": 166,
     "metadata": {},
     "output_type": "execute_result"
    }
   ],
   "source": [
    "df['Mileage'].head()"
   ]
  },
  {
   "cell_type": "code",
   "execution_count": 167,
   "metadata": {},
   "outputs": [
    {
     "data": {
      "text/plain": [
       "S.No.\n",
       "1388     17.8\n",
       "2437     24.6\n",
       "5419    14.28\n",
       "691      21.1\n",
       "3038     13.2\n",
       "Name: Mileage, dtype: object"
      ]
     },
     "execution_count": 167,
     "metadata": {},
     "output_type": "execute_result"
    }
   ],
   "source": [
    "mileage = df['Mileage'].str.split().str.get(0)\n",
    "mileage.sample(5)"
   ]
  },
  {
   "cell_type": "code",
   "execution_count": 168,
   "metadata": {},
   "outputs": [
    {
     "data": {
      "text/plain": [
       "2"
      ]
     },
     "execution_count": 168,
     "metadata": {},
     "output_type": "execute_result"
    }
   ],
   "source": [
    "pd.isnull(mileage).sum()"
   ]
  },
  {
   "cell_type": "code",
   "execution_count": 169,
   "metadata": {},
   "outputs": [
    {
     "data": {
      "text/plain": [
       "Name                  0.000000\n",
       "Location              0.000000\n",
       "Year                  0.000000\n",
       "Kilometers_Driven     0.000000\n",
       "Fuel_Type             0.000000\n",
       "Transmission          0.000000\n",
       "Owner_Type            0.000000\n",
       "Mileage               0.027575\n",
       "Engine                0.634220\n",
       "Power                 0.634220\n",
       "Seats                 0.730732\n",
       "New_Price            86.129877\n",
       "Price                17.013650\n",
       "dtype: float64"
      ]
     },
     "execution_count": 169,
     "metadata": {},
     "output_type": "execute_result"
    }
   ],
   "source": [
    "# Missing Data\n",
    "100*pd.isnull(df).sum()/len(df)"
   ]
  },
  {
   "cell_type": "code",
   "execution_count": 170,
   "metadata": {},
   "outputs": [],
   "source": [
    "df.drop(drop_cols,axis=1,inplace=True)"
   ]
  },
  {
   "cell_type": "code",
   "execution_count": 171,
   "metadata": {},
   "outputs": [
    {
     "data": {
      "text/plain": [
       "Name                  0.000000\n",
       "Location              0.000000\n",
       "Year                  0.000000\n",
       "Kilometers_Driven     0.000000\n",
       "Fuel_Type             0.000000\n",
       "Transmission          0.000000\n",
       "Owner_Type            0.000000\n",
       "Mileage               0.027575\n",
       "Engine                0.634220\n",
       "Power                 0.634220\n",
       "Seats                 0.730732\n",
       "Price                17.013650\n",
       "dtype: float64"
      ]
     },
     "execution_count": 171,
     "metadata": {},
     "output_type": "execute_result"
    }
   ],
   "source": [
    "100*pd.isnull(df).sum()/len(df)"
   ]
  },
  {
   "cell_type": "code",
   "execution_count": 172,
   "metadata": {},
   "outputs": [
    {
     "data": {
      "text/plain": [
       "maruti           1444\n",
       "hyundai          1340\n",
       "honda             743\n",
       "toyota            507\n",
       "mercedes-benz     380\n",
       "volkswagen        374\n",
       "ford              351\n",
       "mahindra          331\n",
       "bmw               312\n",
       "audi              285\n",
       "tata              228\n",
       "skoda             202\n",
       "renault           170\n",
       "chevrolet         151\n",
       "nissan            117\n",
       "land               67\n",
       "jaguar             48\n",
       "fiat               38\n",
       "mitsubishi         36\n",
       "mini               31\n",
       "volvo              28\n",
       "porsche            19\n",
       "jeep               19\n",
       "datsun             17\n",
       "isuzu               5\n",
       "force               3\n",
       "bentley             2\n",
       "smart               1\n",
       "ambassador          1\n",
       "lamborghini         1\n",
       "hindustan           1\n",
       "opelcorsa           1\n",
       "Name: Name, dtype: int64"
      ]
     },
     "execution_count": 172,
     "metadata": {},
     "output_type": "execute_result"
    }
   ],
   "source": [
    "df['Name'].str.lower().str.split().str.get(0).value_counts()"
   ]
  },
  {
   "cell_type": "code",
   "execution_count": 173,
   "metadata": {},
   "outputs": [],
   "source": [
    "# drop the missing entries\n",
    "df0 = df.dropna()\n",
    "df1 = df.dropna(thresh=11)"
   ]
  },
  {
   "cell_type": "code",
   "execution_count": 174,
   "metadata": {},
   "outputs": [
    {
     "data": {
      "text/plain": [
       "((7253, 12), (7206, 12), (5975, 12))"
      ]
     },
     "execution_count": 174,
     "metadata": {},
     "output_type": "execute_result"
    }
   ],
   "source": [
    "df.shape, df1.shape, df0.shape"
   ]
  },
  {
   "cell_type": "markdown",
   "metadata": {},
   "source": [
    "for example we have total 12 columns, so it will keep only those rows, which at least have 11 number of entries to be non-null"
   ]
  },
  {
   "cell_type": "code",
   "execution_count": 175,
   "metadata": {},
   "outputs": [
    {
     "data": {
      "text/plain": [
       "Name                 0.0\n",
       "Location             0.0\n",
       "Year                 0.0\n",
       "Kilometers_Driven    0.0\n",
       "Fuel_Type            0.0\n",
       "Transmission         0.0\n",
       "Owner_Type           0.0\n",
       "Mileage              0.0\n",
       "Engine               0.0\n",
       "Power                0.0\n",
       "Seats                0.0\n",
       "Price                0.0\n",
       "dtype: float64"
      ]
     },
     "execution_count": 175,
     "metadata": {},
     "output_type": "execute_result"
    }
   ],
   "source": [
    "100*pd.isnull(df0).sum()/len(df0)"
   ]
  },
  {
   "cell_type": "code",
   "execution_count": 176,
   "metadata": {},
   "outputs": [
    {
     "data": {
      "text/plain": [
       "Name                  0.000000\n",
       "Location              0.000000\n",
       "Year                  0.000000\n",
       "Kilometers_Driven     0.000000\n",
       "Fuel_Type             0.000000\n",
       "Transmission          0.000000\n",
       "Owner_Type            0.000000\n",
       "Mileage               0.027755\n",
       "Engine                0.000000\n",
       "Power                 0.000000\n",
       "Seats                 0.083264\n",
       "Price                16.971968\n",
       "dtype: float64"
      ]
     },
     "execution_count": 176,
     "metadata": {},
     "output_type": "execute_result"
    }
   ],
   "source": [
    "100*pd.isnull(df1).sum()/len(df1)"
   ]
  },
  {
   "cell_type": "code",
   "execution_count": 177,
   "metadata": {},
   "outputs": [],
   "source": [
    "df2 = df[~pd.isnull(df['Price'])]"
   ]
  },
  {
   "cell_type": "code",
   "execution_count": 178,
   "metadata": {},
   "outputs": [
    {
     "data": {
      "text/plain": [
       "Name                 0.000000\n",
       "Location             0.000000\n",
       "Year                 0.000000\n",
       "Kilometers_Driven    0.000000\n",
       "Fuel_Type            0.000000\n",
       "Transmission         0.000000\n",
       "Owner_Type           0.000000\n",
       "Mileage              0.033228\n",
       "Engine               0.598106\n",
       "Power                0.598106\n",
       "Seats                0.697790\n",
       "Price                0.000000\n",
       "dtype: float64"
      ]
     },
     "execution_count": 178,
     "metadata": {},
     "output_type": "execute_result"
    }
   ],
   "source": [
    "100*pd.isnull(df2).sum()/len(df2)"
   ]
  },
  {
   "cell_type": "code",
   "execution_count": 179,
   "metadata": {},
   "outputs": [],
   "source": [
    "# Treating the power data first\n",
    "df['Power'] = df['Power'].apply(\n",
    "            lambda x:\n",
    "                np.nan if pd.isnull(x) else (\n",
    "                    np.nan if 'null' in x.lower() else x\n",
    "                    )\n",
    "    )"
   ]
  },
  {
   "cell_type": "code",
   "execution_count": 180,
   "metadata": {},
   "outputs": [
    {
     "data": {
      "text/plain": [
       "(5872, 12)"
      ]
     },
     "execution_count": 180,
     "metadata": {},
     "output_type": "execute_result"
    }
   ],
   "source": [
    "# The only method has to be used here REMOVE ALL THE MISSING ENTRIES\n",
    "cars = df.dropna()\n",
    "cars.shape"
   ]
  },
  {
   "cell_type": "code",
   "execution_count": 181,
   "metadata": {},
   "outputs": [
    {
     "data": {
      "text/plain": [
       "Name                 0.0\n",
       "Location             0.0\n",
       "Year                 0.0\n",
       "Kilometers_Driven    0.0\n",
       "Fuel_Type            0.0\n",
       "Transmission         0.0\n",
       "Owner_Type           0.0\n",
       "Mileage              0.0\n",
       "Engine               0.0\n",
       "Power                0.0\n",
       "Seats                0.0\n",
       "Price                0.0\n",
       "dtype: float64"
      ]
     },
     "execution_count": 181,
     "metadata": {},
     "output_type": "execute_result"
    }
   ],
   "source": [
    "100*pd.isnull(cars).sum()/len(cars)"
   ]
  },
  {
   "cell_type": "code",
   "execution_count": 182,
   "metadata": {},
   "outputs": [],
   "source": [
    "cars['Mileage'] = cars['Mileage'].str.split().str.get(0).astype(float)\n",
    "# cars['Mileage'].apply(lambda x: eval(x.split()[0]))\n",
    "\n",
    "cars['Power'] = cars['Power'].str.split().str.get(0).astype(float)\n",
    "cars['Engine'] = cars['Engine'].str.split().str.get(0).astype(float)"
   ]
  },
  {
   "cell_type": "code",
   "execution_count": 183,
   "metadata": {},
   "outputs": [
    {
     "name": "stdout",
     "output_type": "stream",
     "text": [
      "<class 'pandas.core.frame.DataFrame'>\n",
      "Int64Index: 5872 entries, 0 to 6018\n",
      "Data columns (total 12 columns):\n",
      " #   Column             Non-Null Count  Dtype  \n",
      "---  ------             --------------  -----  \n",
      " 0   Name               5872 non-null   object \n",
      " 1   Location           5872 non-null   object \n",
      " 2   Year               5872 non-null   int64  \n",
      " 3   Kilometers_Driven  5872 non-null   int64  \n",
      " 4   Fuel_Type          5872 non-null   object \n",
      " 5   Transmission       5872 non-null   object \n",
      " 6   Owner_Type         5872 non-null   object \n",
      " 7   Mileage            5872 non-null   float64\n",
      " 8   Engine             5872 non-null   float64\n",
      " 9   Power              5872 non-null   float64\n",
      " 10  Seats              5872 non-null   float64\n",
      " 11  Price              5872 non-null   float64\n",
      "dtypes: float64(5), int64(2), object(5)\n",
      "memory usage: 596.4+ KB\n"
     ]
    }
   ],
   "source": [
    "cars.info()"
   ]
  },
  {
   "cell_type": "code",
   "execution_count": 184,
   "metadata": {},
   "outputs": [
    {
     "name": "stdout",
     "output_type": "stream",
     "text": [
      "Kilometers_Driven\n"
     ]
    },
    {
     "data": {
      "image/png": "[encoded data removed]",
      "text/plain": [
       "<Figure size 1080x216 with 1 Axes>"
      ]
     },
     "metadata": {},
     "output_type": "display_data"
    },
    {
     "name": "stdout",
     "output_type": "stream",
     "text": [
      "Mileage\n"
     ]
    },
    {
     "data": {
      "image/png": "[encoded data removed]",
      "text/plain": [
       "<Figure size 1080x216 with 1 Axes>"
      ]
     },
     "metadata": {},
     "output_type": "display_data"
    },
    {
     "name": "stdout",
     "output_type": "stream",
     "text": [
      "Engine\n"
     ]
    },
    {
     "data": {
      "image/png": "[encoded data removed]",
      "text/plain": [
       "<Figure size 1080x216 with 1 Axes>"
      ]
     },
     "metadata": {},
     "output_type": "display_data"
    },
    {
     "name": "stdout",
     "output_type": "stream",
     "text": [
      "Power\n"
     ]
    },
    {
     "data": {
      "image/png": "[encoded data removed]",
      "text/plain": [
       "<Figure size 1080x216 with 1 Axes>"
      ]
     },
     "metadata": {},
     "output_type": "display_data"
    },
    {
     "name": "stdout",
     "output_type": "stream",
     "text": [
      "Seats\n"
     ]
    },
    {
     "data": {
      "image/png": "[encoded data removed]",
      "text/plain": [
       "<Figure size 1080x216 with 1 Axes>"
      ]
     },
     "metadata": {},
     "output_type": "display_data"
    }
   ],
   "source": [
    "def num_analyze(col):\n",
    "    print(col)\n",
    "    fig = plt.figure(figsize=(15,3))\n",
    "    sns.distplot(cars[col])\n",
    "    plt.show()\n",
    "\n",
    "for col in num_cols:\n",
    "    num_analyze(col)"
   ]
  },
  {
   "cell_type": "code",
   "execution_count": null,
   "metadata": {},
   "outputs": [],
   "source": [
    "# Univariate Analysis\n"
   ]
  }
 ],
 "metadata": {
  "kernelspec": {
   "display_name": "Python 3.9.12 ('base')",
   "language": "python",
   "name": "python3"
  },
  "language_info": {
   "codemirror_mode": {
    "name": "ipython",
    "version": 3
   },
   "file_extension": ".py",
   "mimetype": "text/x-python",
   "name": "python",
   "nbconvert_exporter": "python",
   "pygments_lexer": "ipython3",
   "version": "3.9.12"
  },
  "orig_nbformat": 4,
  "vscode": {
   "interpreter": {
    "hash": "9d7145ac079ffe9d15656a1e08230b2cbcf4be7a60af871e5b934c424fa38166"
   }
  }
 },
 "nbformat": 4,
 "nbformat_minor": 2
}
